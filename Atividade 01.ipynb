{
 "cells": [
  {
   "cell_type": "markdown",
   "id": "3503bb91",
   "metadata": {},
   "source": [
    "# Exercícios"
   ]
  },
  {
   "cell_type": "markdown",
   "id": "260f828d",
   "metadata": {},
   "source": [
    "1. Crie um dataframe de tax_data_2016.csv que usa apenas as colunas específicas necessárias para ver se há diferenças por geografia e nível de renda na composição familiar.\n",
    "Para fazer isso, selecione as colunas sobre grupo de renda, são elas: CEP (zipcode), status de declaração de imposto de renda (coluna mars1 para solteiro e MARS2 para casado), e  NUMDEP (número de dependentes). \n",
    "\n"
   ]
  },
  {
   "cell_type": "code",
   "execution_count": 1,
   "id": "a1551064",
   "metadata": {},
   "outputs": [],
   "source": [
    "import pandas as pd\n",
    "pd.set_option(\"display.max_columns\", 100)\n",
    "path = '../dados/atividade1/us_tax_data_2016.csv'\n"
   ]
  },
  {
   "cell_type": "code",
   "execution_count": 2,
   "id": "b8b2050f",
   "metadata": {},
   "outputs": [
    {
     "data": {
      "text/html": [
       "<div>\n",
       "<style scoped>\n",
       "    .dataframe tbody tr th:only-of-type {\n",
       "        vertical-align: middle;\n",
       "    }\n",
       "\n",
       "    .dataframe tbody tr th {\n",
       "        vertical-align: top;\n",
       "    }\n",
       "\n",
       "    .dataframe thead th {\n",
       "        text-align: right;\n",
       "    }\n",
       "</style>\n",
       "<table border=\"1\" class=\"dataframe\">\n",
       "  <thead>\n",
       "    <tr style=\"text-align: right;\">\n",
       "      <th></th>\n",
       "      <th>STATE</th>\n",
       "      <th>zipcode</th>\n",
       "      <th>mars1</th>\n",
       "      <th>MARS2</th>\n",
       "      <th>NUMDEP</th>\n",
       "    </tr>\n",
       "  </thead>\n",
       "  <tbody>\n",
       "    <tr>\n",
       "      <th>0</th>\n",
       "      <td>AL</td>\n",
       "      <td>0</td>\n",
       "      <td>477700</td>\n",
       "      <td>105350</td>\n",
       "      <td>491310</td>\n",
       "    </tr>\n",
       "    <tr>\n",
       "      <th>1</th>\n",
       "      <td>AL</td>\n",
       "      <td>0</td>\n",
       "      <td>211930</td>\n",
       "      <td>142340</td>\n",
       "      <td>360480</td>\n",
       "    </tr>\n",
       "    <tr>\n",
       "      <th>2</th>\n",
       "      <td>AL</td>\n",
       "      <td>0</td>\n",
       "      <td>83420</td>\n",
       "      <td>137870</td>\n",
       "      <td>182880</td>\n",
       "    </tr>\n",
       "    <tr>\n",
       "      <th>3</th>\n",
       "      <td>AL</td>\n",
       "      <td>0</td>\n",
       "      <td>29420</td>\n",
       "      <td>124060</td>\n",
       "      <td>130160</td>\n",
       "    </tr>\n",
       "    <tr>\n",
       "      <th>4</th>\n",
       "      <td>AL</td>\n",
       "      <td>0</td>\n",
       "      <td>20240</td>\n",
       "      <td>188080</td>\n",
       "      <td>195990</td>\n",
       "    </tr>\n",
       "  </tbody>\n",
       "</table>\n",
       "</div>"
      ],
      "text/plain": [
       "  STATE  zipcode   mars1   MARS2  NUMDEP\n",
       "0    AL        0  477700  105350  491310\n",
       "1    AL        0  211930  142340  360480\n",
       "2    AL        0   83420  137870  182880\n",
       "3    AL        0   29420  124060  130160\n",
       "4    AL        0   20240  188080  195990"
      ]
     },
     "execution_count": 2,
     "metadata": {},
     "output_type": "execute_result"
    }
   ],
   "source": [
    "\n",
    "dado = pd.read_csv(path, usecols=['zipcode','STATE','mars1','MARS2','NUMDEP'])\n",
    "dado.head(5)\n"
   ]
  },
  {
   "cell_type": "code",
   "execution_count": null,
   "id": "70ebada4",
   "metadata": {},
   "outputs": [],
   "source": []
  },
  {
   "attachments": {},
   "cell_type": "markdown",
   "id": "87bdcc3d",
   "metadata": {},
   "source": [
    "2. Obtenha as primeiras 500 linhas em um dataframe chamado primeiras500. \n",
    "Em seguida obtenha as próximas 500 linhas em um dataframe proximas500. \n",
    "Para fazer isso, use os argumentos ``nrows`` e  ``skiprows`` para obter os registros corretos, \n",
    "``header`` para informar aos pandas que os dados não têm nomes de colunas e ``names`` para fornecer os nomes de colunas ausentes.     \n",
    "Depois, nomeie as colunas em proximos500 fornecendo uma lista de colunas de primeiros500 para o argumento ``names``.\n",
    "Use a função list() para obter nomes de coluna de primeiros500."
   ]
  },
  {
   "cell_type": "code",
   "execution_count": 3,
   "id": "a0be8232",
   "metadata": {},
   "outputs": [],
   "source": [
    "# Lê as primeiras 500 linhas do arquivo \n",
    "primeiras500 = pd.read_csv(path, nrows=500, header=None)\n",
    "\n",
    "# Lê as próximas 500 linhas, pulando as primeiras 500 já lidas\n",
    "proximas500 = pd.read_csv(path, skiprows=500, nrows=500, header=None, names=list(primeiras500.columns))\n",
    "\n"
   ]
  },
  {
   "cell_type": "markdown",
   "id": "594f19ab",
   "metadata": {},
   "source": [
    "3. Carregue o arquivo tax_data_2016.csv, visualize o atributo dtypes do dataframe e observe os tipos de dados de CEP e agi_stub.\n",
    "\n"
   ]
  },
  {
   "cell_type": "code",
   "execution_count": 4,
   "id": "1b22a58d",
   "metadata": {},
   "outputs": [
    {
     "data": {
      "text/plain": [
       "zipcode     int64\n",
       "agi_stub    int64\n",
       "dtype: object"
      ]
     },
     "metadata": {},
     "output_type": "display_data"
    }
   ],
   "source": [
    "\n",
    "dado = pd.read_csv(path, usecols=['zipcode','agi_stub'])\n",
    "dado.head(5)\n",
    "\n",
    "display(dado.dtypes)"
   ]
  },
  {
   "attachments": {},
   "cell_type": "markdown",
   "id": "ac535591",
   "metadata": {},
   "source": [
    "4. Você deve ter observado que a coluna agi_stub contém números que correspondem a categorias de renda, e CEP tem valores de 5 dígitos que devem ser strings -- tratá-los como inteiros significa que perdemos 0s iniciais, que são significativos. \n",
    "Defina os tipos de dados corretos criando um dicionario chamado null_values, especificando que 0s na coluna CEP devem ser considerados valores NA.\n",
    "Depois, carregue tax_data_2016.csv, usando o argumento na_values e o dicionário para garantir que CEPs inválidos sejam tratados como ausentes.\n"
   ]
  },
  {
   "cell_type": "code",
   "execution_count": null,
   "id": "2ef5c533",
   "metadata": {},
   "outputs": [],
   "source": []
  },
  {
   "cell_type": "markdown",
   "id": "7bed8679",
   "metadata": {},
   "source": [
    "5. Leia o arquivo fcc_survey.xlsx, atribua-o à variável survey_responses e imprima os primeiros registros de survey_responses."
   ]
  },
  {
   "cell_type": "code",
   "execution_count": null,
   "id": "39619b21",
   "metadata": {},
   "outputs": [],
   "source": []
  },
  {
   "cell_type": "markdown",
   "id": "4a54eb41",
   "metadata": {},
   "source": [
    "6. Crie uma string chamada col_string, especificando que os pandas devem carregar a coluna AD e o intervalo AW até BA.\n",
    "Carregue fcc_survey.xlsx, definindo ``skiprows`` e ``usecols`` para ignorar as duas primeiras linhas e obter apenas as colunas em col_string.\n",
    "Visualize os nomes das colunas selecionadas no dataframe resultante."
   ]
  },
  {
   "cell_type": "code",
   "execution_count": null,
   "id": "fec49abb",
   "metadata": {},
   "outputs": [],
   "source": []
  },
  {
   "attachments": {},
   "cell_type": "markdown",
   "id": "38dfd251",
   "metadata": {},
   "source": [
    "7. Crie um dataframe a partir do arquivo `fcc_survey.xlsx` passando a posição da segunda aba para ``sheet_name``."
   ]
  },
  {
   "cell_type": "code",
   "execution_count": null,
   "id": "84f3ce49",
   "metadata": {},
   "outputs": [],
   "source": []
  },
  {
   "attachments": {},
   "cell_type": "markdown",
   "id": "8f9582c5",
   "metadata": {},
   "source": [
    "8. Carregue as planilhas de 2016 e 2017 por nome em variáveis separadas. Calcule a média da coluna Age para as diferentes abas do arquivo."
   ]
  },
  {
   "cell_type": "code",
   "execution_count": null,
   "id": "e15b44f3",
   "metadata": {},
   "outputs": [],
   "source": []
  },
  {
   "attachments": {},
   "cell_type": "markdown",
   "id": "13f250a6",
   "metadata": {},
   "source": [
    "9. Concatene as diferentes abas do arquivo `fcc_survey.xlsx` em apenas um dataframe. Calcule a média da coluna Age para a concatenação das abas do arquivo."
   ]
  },
  {
   "cell_type": "code",
   "execution_count": null,
   "id": "6b650202",
   "metadata": {},
   "outputs": [],
   "source": []
  },
  {
   "attachments": {},
   "cell_type": "markdown",
   "id": "861ad4f3",
   "metadata": {},
   "source": [
    "10.  Utilizando uma query em SQL e o banco `sqlite-sakila.db` retorne as cidades e os países, mas apenas os países que começem com a letra **B**."
   ]
  },
  {
   "cell_type": "code",
   "execution_count": null,
   "id": "1092cef4",
   "metadata": {},
   "outputs": [],
   "source": []
  }
 ],
 "metadata": {
  "kernelspec": {
   "display_name": "Python 3",
   "language": "python",
   "name": "python3"
  },
  "language_info": {
   "codemirror_mode": {
    "name": "ipython",
    "version": 3
   },
   "file_extension": ".py",
   "mimetype": "text/x-python",
   "name": "python",
   "nbconvert_exporter": "python",
   "pygments_lexer": "ipython3",
   "version": "3.11.1"
  }
 },
 "nbformat": 4,
 "nbformat_minor": 5
}
